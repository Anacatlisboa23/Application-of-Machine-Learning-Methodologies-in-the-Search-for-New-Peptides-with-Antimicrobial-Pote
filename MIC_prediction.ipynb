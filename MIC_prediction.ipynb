{
  "nbformat": 4,
  "nbformat_minor": 0,
  "metadata": {
    "colab": {
      "provenance": [],
      "authorship_tag": "ABX9TyPwedP43z3CKfBkmv7AY+Fj",
      "include_colab_link": true
    },
    "kernelspec": {
      "name": "python3",
      "display_name": "Python 3"
    },
    "language_info": {
      "name": "python"
    }
  },
  "cells": [
    {
      "cell_type": "markdown",
      "metadata": {
        "id": "view-in-github",
        "colab_type": "text"
      },
      "source": [
        "<a href=\"https://colab.research.google.com/github/Anacatlisboa23/Tese/blob/main/MIC_prediction.ipynb\" target=\"_parent\"><img src=\"https://colab.research.google.com/assets/colab-badge.svg\" alt=\"Open In Colab\"/></a>"
      ]
    },
    {
      "cell_type": "markdown",
      "source": [
        "# MIC Prediction"
      ],
      "metadata": {
        "id": "TEr3Pm5nR_LT"
      }
    },
    {
      "cell_type": "code",
      "execution_count": null,
      "metadata": {
        "id": "qsAFISWiR8Yf"
      },
      "outputs": [],
      "source": [
        "# Importação das bibliotecas necessárias\n",
        "import numpy as np\n",
        "import pandas as pd\n",
        "from sklearn.model_selection import train_test_split\n",
        "from sklearn.linear_model import LinearRegression\n",
        "from sklearn.metrics import mean_squared_error, mean_absolute_error, r2_score"
      ]
    },
    {
      "cell_type": "code",
      "source": [
        "# Exemplo de carregamento de dados\n",
        "# Suponha que temos um DataFrame 'data' com as features e a variável target 'MIC'\n",
        "data = pd.read_csv('caminho_para_seus_dados.csv')\n",
        "\n",
        "# Separando as features (X) e o target (y)\n",
        "X = data.drop('MIC', axis=1)\n",
        "y = data['MIC']\n",
        "\n",
        "# Dividindo os dados em conjuntos de treino e teste\n",
        "X_train, X_test, y_train, y_test = train_test_split(X, y, test_size=0.2, random_state=42)"
      ],
      "metadata": {
        "id": "zYMkgk7KSLrQ"
      },
      "execution_count": null,
      "outputs": []
    },
    {
      "cell_type": "markdown",
      "source": [
        "Standarization:"
      ],
      "metadata": {
        "id": "Kcm2HdnNTrEZ"
      }
    },
    {
      "cell_type": "code",
      "source": [
        "# Padronizando as características\n",
        "scaler = StandardScaler()\n",
        "X_train_scaled = scaler.fit_transform(X_train)\n",
        "X_test_scaled = scaler.transform(X_test)"
      ],
      "metadata": {
        "id": "a_NpCL9HTqB0"
      },
      "execution_count": null,
      "outputs": []
    },
    {
      "cell_type": "markdown",
      "source": [
        "# Logistic Regression:"
      ],
      "metadata": {
        "id": "GEKYNjvwS-G4"
      }
    },
    {
      "cell_type": "code",
      "source": [
        "# Inicializando e treinando o modelo\n",
        "model = LogisticRegression()\n",
        "model.fit(X_train, y_train)\n",
        "\n",
        "# Fazendo previsões\n",
        "y_pred = model.predict(X_test)\n",
        "\n",
        "# Avaliando o modelo\n",
        "accuracy = accuracy_score(y_test, y_pred)\n",
        "report = classification_report(y_test, y_pred)\n",
        "\n",
        "print(f'Accuracy: {accuracy}')\n",
        "print(f'Classification Report:\\n{report}')"
      ],
      "metadata": {
        "id": "nbAtyzoeSXJT"
      },
      "execution_count": null,
      "outputs": []
    },
    {
      "cell_type": "markdown",
      "source": [
        "# Supper Vector Regression:"
      ],
      "metadata": {
        "id": "l62R7kTkTDUA"
      }
    },
    {
      "cell_type": "code",
      "source": [
        "# Inicializando e treinando o modelo\n",
        "model = SVR(kernel='rbf')  # 'rbf' é o kernel Radial Basis Function\n",
        "model.fit(X_train, y_train)\n",
        "\n",
        "# Fazendo previsões\n",
        "y_pred = model.predict(X_test)\n",
        "\n",
        "# Avaliando o modelo\n",
        "mse = mean_squared_error(y_test, y_pred)\n",
        "mae = mean_absolute_error(y_test, y_pred)\n",
        "r2 = r2_score(y_test, y_pred)\n",
        "\n",
        "print(f'MSE: {mse}')\n",
        "print(f'MAE: {mae}')\n",
        "print(f'R²: {r2}')\n"
      ],
      "metadata": {
        "id": "7OQVomiyTI3X"
      },
      "execution_count": null,
      "outputs": []
    },
    {
      "cell_type": "markdown",
      "source": [
        "# Polinomial Regression:"
      ],
      "metadata": {
        "id": "QrBcaSlkTSGh"
      }
    },
    {
      "cell_type": "code",
      "source": [
        "# Inicializando o transformador polinomial e o modelo\n",
        "poly = PolynomialFeatures(degree=3)  # Grau do polinômio\n",
        "model = LinearRegression()\n",
        "\n",
        "# Criando o pipeline\n",
        "pipeline = make_pipeline(poly, model)\n",
        "pipeline.fit(X_train, y_train)\n",
        "\n",
        "# Fazendo previsões\n",
        "y_pred = pipeline.predict(X_test)\n",
        "\n",
        "# Avaliando o modelo\n",
        "mse = mean_squared_error(y_test, y_pred)\n",
        "mae = mean_absolute_error(y_test, y_pred)\n",
        "r2 = r2_score(y_test, y_pred)\n",
        "\n",
        "print(f'MSE: {mse}')\n",
        "print(f'MAE: {mae}')"
      ],
      "metadata": {
        "id": "4BQcBijwTRpJ"
      },
      "execution_count": null,
      "outputs": []
    }
  ]
}